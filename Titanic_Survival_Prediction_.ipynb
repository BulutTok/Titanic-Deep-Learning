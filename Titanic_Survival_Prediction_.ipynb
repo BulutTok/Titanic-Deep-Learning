{
  "nbformat": 4,
  "nbformat_minor": 0,
  "metadata": {
    "colab": {
      "provenance": []
    },
    "kernelspec": {
      "name": "python3",
      "display_name": "Python 3"
    },
    "language_info": {
      "name": "python"
    }
  },
  "cells": [
    {
      "cell_type": "code",
      "execution_count": 1,
      "metadata": {
        "colab": {
          "base_uri": "https://localhost:8080/"
        },
        "id": "lR-O2C89yxct",
        "outputId": "709a08cc-143c-4666-f95e-940a3d6e0cc1"
      },
      "outputs": [
        {
          "output_type": "stream",
          "name": "stdout",
          "text": [
            "Downloading train.csv\n",
            "Downloading test.csv\n"
          ]
        }
      ],
      "source": [
        "import os\n",
        "import urllib.request\n",
        "\n",
        "TITANIC_PATH = os.path.join(\"datasets\", \"titanic\")\n",
        "DOWNLOAD_URL = \"https://raw.githubusercontent.com/ageron/handson-ml2/master/datasets/titanic/\"\n",
        "\n",
        "def fetch_titanic_data(url=DOWNLOAD_URL, path=TITANIC_PATH):\n",
        "    if not os.path.isdir(path):\n",
        "        os.makedirs(path)\n",
        "    for filename in (\"train.csv\", \"test.csv\"):\n",
        "        filepath = os.path.join(path, filename)\n",
        "        if not os.path.isfile(filepath):\n",
        "            print(\"Downloading\", filename)\n",
        "            urllib.request.urlretrieve(url + filename, filepath)\n",
        "\n",
        "fetch_titanic_data()\n",
        "\n",
        "import pandas as pd\n",
        "\n",
        "def load_titanic_data(filename, titanic_path=TITANIC_PATH):\n",
        "    csv_path = os.path.join(titanic_path, filename)\n",
        "    return pd.read_csv(csv_path)\n",
        "\n",
        "train_data = load_titanic_data(\"train.csv\")\n",
        "test_data = load_titanic_data(\"test.csv\")\n"
      ]
    },
    {
      "cell_type": "markdown",
      "source": [
        "The attributes have the following meaning:\n",
        "* **PassengerId**: a unique identifier for each passenger\n",
        "* **Survived**: that's the target, 0 means the passenger did not survive, while 1 means he/she survived.\n",
        "* **Pclass**: passenger class.\n",
        "* **Name**, **Sex**, **Age**: self-explanatory\n",
        "* **SibSp**: how many siblings & spouses of the passenger aboard the Titanic.\n",
        "* **Parch**: how many children & parents of the passenger aboard the Titanic.\n",
        "* **Ticket**: ticket id\n",
        "* **Fare**: price paid (in pounds)\n",
        "* **Cabin**: passenger's cabin number\n",
        "* **Embarked**: where the passenger embarked the Titanic\n"
      ],
      "metadata": {
        "id": "BKXjcEFOzOmY"
      }
    },
    {
      "cell_type": "code",
      "source": [
        "#set the `PassengerId` column as the index column\n",
        "train_data = train_data.set_index(\"PassengerId\")\n",
        "test_data = test_data.set_index(\"PassengerId\")\n"
      ],
      "metadata": {
        "id": "6nwWKEMAzQhh"
      },
      "execution_count": 2,
      "outputs": []
    },
    {
      "cell_type": "code",
      "source": [
        "#Let'sbuild the pipeline for the categorical attributes\n",
        "from sklearn.pipeline import Pipeline\n",
        "from sklearn.impute import SimpleImputer\n",
        "from sklearn.preprocessing import OneHotEncoder\n",
        "\n",
        "cat_pipeline = Pipeline([\n",
        "    (\"imputer\", SimpleImputer(strategy=\"most_frequent\")),\n",
        "    (\"cat_encoder\", OneHotEncoder(sparse_output=False)),\n",
        "])"
      ],
      "metadata": {
        "id": "pIv3wZkTzl-K"
      },
      "execution_count": 5,
      "outputs": []
    },
    {
      "cell_type": "code",
      "source": [
        "# Let's join the numerical and categorical pipelines:\n",
        "from sklearn.compose import ColumnTransformer\n",
        "\n",
        "num_attribs = [\"Age\", \"SibSp\", \"Parch\", \"Fare\"]\n",
        "cat_attribs = [\"Pclass\", \"Sex\", \"Embarked\"]\n",
        "\n",
        "preprocess_pipeline = ColumnTransformer([\n",
        "        (\"num\", num_pipeline, num_attribs),\n",
        "        (\"cat\", cat_pipeline, cat_attribs),\n",
        "    ])"
      ],
      "metadata": {
        "id": "2AKhC2nL0C6Q"
      },
      "execution_count": 6,
      "outputs": []
    },
    {
      "cell_type": "code",
      "source": [
        "#Preprocessing pipeline that takes the raw data and outputs numerical input features that we can feed to any Machine Learning model we want:\n",
        "X_train = preprocess_pipeline.fit_transform(\n",
        "    train_data[num_attribs + cat_attribs])\n",
        "X_train"
      ],
      "metadata": {
        "colab": {
          "base_uri": "https://localhost:8080/"
        },
        "id": "2zzlj0yl0L2s",
        "outputId": "36ceac34-34c7-46ea-8f67-942bd8c2d4db"
      },
      "execution_count": 7,
      "outputs": [
        {
          "output_type": "execute_result",
          "data": {
            "text/plain": [
              "array([[-0.56573582,  0.43279337, -0.47367361, ...,  0.        ,\n",
              "         0.        ,  1.        ],\n",
              "       [ 0.6638609 ,  0.43279337, -0.47367361, ...,  1.        ,\n",
              "         0.        ,  0.        ],\n",
              "       [-0.25833664, -0.4745452 , -0.47367361, ...,  0.        ,\n",
              "         0.        ,  1.        ],\n",
              "       ...,\n",
              "       [-0.10463705,  0.43279337,  2.00893337, ...,  0.        ,\n",
              "         0.        ,  1.        ],\n",
              "       [-0.25833664, -0.4745452 , -0.47367361, ...,  1.        ,\n",
              "         0.        ,  0.        ],\n",
              "       [ 0.20276213, -0.4745452 , -0.47367361, ...,  0.        ,\n",
              "         1.        ,  0.        ]])"
            ]
          },
          "metadata": {},
          "execution_count": 7
        }
      ]
    },
    {
      "cell_type": "code",
      "source": [
        "#Labeling\n",
        "y_train = train_data[\"Survived\"]\n",
        "\n",
        "X_test = preprocess_pipeline.transform(test_data[num_attribs + cat_attribs])\n"
      ],
      "metadata": {
        "id": "Me8BJAbD0bEq"
      },
      "execution_count": 8,
      "outputs": []
    },
    {
      "cell_type": "code",
      "source": [
        "!pip install tensorflow"
      ],
      "metadata": {
        "colab": {
          "base_uri": "https://localhost:8080/"
        },
        "id": "r9-u9IwO0gaV",
        "outputId": "e860b93b-7d9a-48ee-f748-e6d7ee95f93b"
      },
      "execution_count": 9,
      "outputs": [
        {
          "output_type": "stream",
          "name": "stdout",
          "text": [
            "Requirement already satisfied: tensorflow in /usr/local/lib/python3.11/dist-packages (2.18.0)\n",
            "Requirement already satisfied: absl-py>=1.0.0 in /usr/local/lib/python3.11/dist-packages (from tensorflow) (1.4.0)\n",
            "Requirement already satisfied: astunparse>=1.6.0 in /usr/local/lib/python3.11/dist-packages (from tensorflow) (1.6.3)\n",
            "Requirement already satisfied: flatbuffers>=24.3.25 in /usr/local/lib/python3.11/dist-packages (from tensorflow) (25.2.10)\n",
            "Requirement already satisfied: gast!=0.5.0,!=0.5.1,!=0.5.2,>=0.2.1 in /usr/local/lib/python3.11/dist-packages (from tensorflow) (0.6.0)\n",
            "Requirement already satisfied: google-pasta>=0.1.1 in /usr/local/lib/python3.11/dist-packages (from tensorflow) (0.2.0)\n",
            "Requirement already satisfied: libclang>=13.0.0 in /usr/local/lib/python3.11/dist-packages (from tensorflow) (18.1.1)\n",
            "Requirement already satisfied: opt-einsum>=2.3.2 in /usr/local/lib/python3.11/dist-packages (from tensorflow) (3.4.0)\n",
            "Requirement already satisfied: packaging in /usr/local/lib/python3.11/dist-packages (from tensorflow) (24.2)\n",
            "Requirement already satisfied: protobuf!=4.21.0,!=4.21.1,!=4.21.2,!=4.21.3,!=4.21.4,!=4.21.5,<6.0.0dev,>=3.20.3 in /usr/local/lib/python3.11/dist-packages (from tensorflow) (5.29.5)\n",
            "Requirement already satisfied: requests<3,>=2.21.0 in /usr/local/lib/python3.11/dist-packages (from tensorflow) (2.32.3)\n",
            "Requirement already satisfied: setuptools in /usr/local/lib/python3.11/dist-packages (from tensorflow) (75.2.0)\n",
            "Requirement already satisfied: six>=1.12.0 in /usr/local/lib/python3.11/dist-packages (from tensorflow) (1.17.0)\n",
            "Requirement already satisfied: termcolor>=1.1.0 in /usr/local/lib/python3.11/dist-packages (from tensorflow) (3.1.0)\n",
            "Requirement already satisfied: typing-extensions>=3.6.6 in /usr/local/lib/python3.11/dist-packages (from tensorflow) (4.14.0)\n",
            "Requirement already satisfied: wrapt>=1.11.0 in /usr/local/lib/python3.11/dist-packages (from tensorflow) (1.17.2)\n",
            "Requirement already satisfied: grpcio<2.0,>=1.24.3 in /usr/local/lib/python3.11/dist-packages (from tensorflow) (1.73.1)\n",
            "Requirement already satisfied: tensorboard<2.19,>=2.18 in /usr/local/lib/python3.11/dist-packages (from tensorflow) (2.18.0)\n",
            "Requirement already satisfied: keras>=3.5.0 in /usr/local/lib/python3.11/dist-packages (from tensorflow) (3.8.0)\n",
            "Requirement already satisfied: numpy<2.1.0,>=1.26.0 in /usr/local/lib/python3.11/dist-packages (from tensorflow) (2.0.2)\n",
            "Requirement already satisfied: h5py>=3.11.0 in /usr/local/lib/python3.11/dist-packages (from tensorflow) (3.14.0)\n",
            "Requirement already satisfied: ml-dtypes<0.5.0,>=0.4.0 in /usr/local/lib/python3.11/dist-packages (from tensorflow) (0.4.1)\n",
            "Requirement already satisfied: tensorflow-io-gcs-filesystem>=0.23.1 in /usr/local/lib/python3.11/dist-packages (from tensorflow) (0.37.1)\n",
            "Requirement already satisfied: wheel<1.0,>=0.23.0 in /usr/local/lib/python3.11/dist-packages (from astunparse>=1.6.0->tensorflow) (0.45.1)\n",
            "Requirement already satisfied: rich in /usr/local/lib/python3.11/dist-packages (from keras>=3.5.0->tensorflow) (13.9.4)\n",
            "Requirement already satisfied: namex in /usr/local/lib/python3.11/dist-packages (from keras>=3.5.0->tensorflow) (0.1.0)\n",
            "Requirement already satisfied: optree in /usr/local/lib/python3.11/dist-packages (from keras>=3.5.0->tensorflow) (0.16.0)\n",
            "Requirement already satisfied: charset-normalizer<4,>=2 in /usr/local/lib/python3.11/dist-packages (from requests<3,>=2.21.0->tensorflow) (3.4.2)\n",
            "Requirement already satisfied: idna<4,>=2.5 in /usr/local/lib/python3.11/dist-packages (from requests<3,>=2.21.0->tensorflow) (3.10)\n",
            "Requirement already satisfied: urllib3<3,>=1.21.1 in /usr/local/lib/python3.11/dist-packages (from requests<3,>=2.21.0->tensorflow) (2.4.0)\n",
            "Requirement already satisfied: certifi>=2017.4.17 in /usr/local/lib/python3.11/dist-packages (from requests<3,>=2.21.0->tensorflow) (2025.6.15)\n",
            "Requirement already satisfied: markdown>=2.6.8 in /usr/local/lib/python3.11/dist-packages (from tensorboard<2.19,>=2.18->tensorflow) (3.8.2)\n",
            "Requirement already satisfied: tensorboard-data-server<0.8.0,>=0.7.0 in /usr/local/lib/python3.11/dist-packages (from tensorboard<2.19,>=2.18->tensorflow) (0.7.2)\n",
            "Requirement already satisfied: werkzeug>=1.0.1 in /usr/local/lib/python3.11/dist-packages (from tensorboard<2.19,>=2.18->tensorflow) (3.1.3)\n",
            "Requirement already satisfied: MarkupSafe>=2.1.1 in /usr/local/lib/python3.11/dist-packages (from werkzeug>=1.0.1->tensorboard<2.19,>=2.18->tensorflow) (3.0.2)\n",
            "Requirement already satisfied: markdown-it-py>=2.2.0 in /usr/local/lib/python3.11/dist-packages (from rich->keras>=3.5.0->tensorflow) (3.0.0)\n",
            "Requirement already satisfied: pygments<3.0.0,>=2.13.0 in /usr/local/lib/python3.11/dist-packages (from rich->keras>=3.5.0->tensorflow) (2.19.2)\n",
            "Requirement already satisfied: mdurl~=0.1 in /usr/local/lib/python3.11/dist-packages (from markdown-it-py>=2.2.0->rich->keras>=3.5.0->tensorflow) (0.1.2)\n"
          ]
        }
      ]
    },
    {
      "cell_type": "code",
      "source": [
        "print(X_train.shape)"
      ],
      "metadata": {
        "colab": {
          "base_uri": "https://localhost:8080/"
        },
        "id": "vaPvFQRv1ZnN",
        "outputId": "6fa944f2-c58d-40d9-e894-8c4ad17c010d"
      },
      "execution_count": 14,
      "outputs": [
        {
          "output_type": "stream",
          "name": "stdout",
          "text": [
            "(891, 12)\n"
          ]
        }
      ]
    },
    {
      "cell_type": "code",
      "source": [
        "#  Preprocessing on the full labelled set\n",
        "X_full = preprocess_pipeline.fit_transform(\n",
        "    train_data[num_attribs + cat_attribs]\n",
        ")\n",
        "y_full = train_data[\"Survived\"].values\n",
        "\n",
        "# Hold-out 20 % of the rows for validation\n",
        "from sklearn.model_selection import train_test_split\n",
        "X_train, X_val, y_train, y_val = train_test_split(\n",
        "    X_full, y_full,\n",
        "    test_size=0.20,          # 80 / 20 split\n",
        "    stratify=y_full,         # keep class balance\n",
        "    random_state=42\n",
        ")\n"
      ],
      "metadata": {
        "id": "3o6ivouc117I"
      },
      "execution_count": 18,
      "outputs": []
    },
    {
      "cell_type": "code",
      "source": [
        "# Build and compile the model\n",
        "from tensorflow.keras.models import Sequential\n",
        "from tensorflow.keras.layers import Dense, Input\n",
        "\n",
        "model = Sequential([\n",
        "    Input(shape=(X_train.shape[1],)),\n",
        "    Dense(100, activation='relu'),\n",
        "    Dense(1,   activation='sigmoid')\n",
        "])\n",
        "model.compile(\n",
        "    loss='binary_crossentropy',\n",
        "    optimizer='adam',\n",
        "    metrics=['accuracy']\n",
        ")"
      ],
      "metadata": {
        "id": "h4gJQbQ14PQf"
      },
      "execution_count": 19,
      "outputs": []
    },
    {
      "cell_type": "code",
      "source": [
        "#Training, while Keras tracks validation accuracy each epoch\n",
        "history = model.fit(\n",
        "    X_train, y_train,\n",
        "    epochs=40,\n",
        "    batch_size=32,\n",
        "    validation_data=(X_val, y_val),\n",
        "    verbose=2\n",
        ")\n",
        "\n",
        "#Final score on the held-out set\n",
        "val_loss, val_acc = model.evaluate(X_val, y_val, verbose=0)\n",
        "print(f\"\\nValidation accuracy: {val_acc:.4f}\")"
      ],
      "metadata": {
        "colab": {
          "base_uri": "https://localhost:8080/"
        },
        "id": "utDGZH674P8x",
        "outputId": "51eac581-2816-440e-cce5-b47d210b9172"
      },
      "execution_count": 20,
      "outputs": [
        {
          "output_type": "stream",
          "name": "stdout",
          "text": [
            "Epoch 1/40\n",
            "23/23 - 1s - 58ms/step - accuracy: 0.6433 - loss: 0.6570 - val_accuracy: 0.7095 - val_loss: 0.6048\n",
            "Epoch 2/40\n",
            "23/23 - 0s - 20ms/step - accuracy: 0.7542 - loss: 0.5607 - val_accuracy: 0.7430 - val_loss: 0.5520\n",
            "Epoch 3/40\n",
            "23/23 - 0s - 13ms/step - accuracy: 0.7949 - loss: 0.5111 - val_accuracy: 0.7709 - val_loss: 0.5161\n",
            "Epoch 4/40\n",
            "23/23 - 0s - 7ms/step - accuracy: 0.8062 - loss: 0.4770 - val_accuracy: 0.7933 - val_loss: 0.4919\n",
            "Epoch 5/40\n",
            "23/23 - 0s - 6ms/step - accuracy: 0.8301 - loss: 0.4544 - val_accuracy: 0.7933 - val_loss: 0.4762\n",
            "Epoch 6/40\n",
            "23/23 - 0s - 7ms/step - accuracy: 0.8272 - loss: 0.4402 - val_accuracy: 0.8045 - val_loss: 0.4634\n",
            "Epoch 7/40\n",
            "23/23 - 0s - 6ms/step - accuracy: 0.8230 - loss: 0.4309 - val_accuracy: 0.8101 - val_loss: 0.4571\n",
            "Epoch 8/40\n",
            "23/23 - 0s - 6ms/step - accuracy: 0.8272 - loss: 0.4240 - val_accuracy: 0.8156 - val_loss: 0.4533\n",
            "Epoch 9/40\n",
            "23/23 - 0s - 12ms/step - accuracy: 0.8216 - loss: 0.4193 - val_accuracy: 0.8268 - val_loss: 0.4488\n",
            "Epoch 10/40\n",
            "23/23 - 0s - 9ms/step - accuracy: 0.8272 - loss: 0.4148 - val_accuracy: 0.8268 - val_loss: 0.4467\n",
            "Epoch 11/40\n",
            "23/23 - 0s - 12ms/step - accuracy: 0.8315 - loss: 0.4120 - val_accuracy: 0.8212 - val_loss: 0.4473\n",
            "Epoch 12/40\n",
            "23/23 - 0s - 6ms/step - accuracy: 0.8216 - loss: 0.4124 - val_accuracy: 0.8212 - val_loss: 0.4445\n",
            "Epoch 13/40\n",
            "23/23 - 0s - 8ms/step - accuracy: 0.8258 - loss: 0.4072 - val_accuracy: 0.8268 - val_loss: 0.4424\n",
            "Epoch 14/40\n",
            "23/23 - 0s - 12ms/step - accuracy: 0.8315 - loss: 0.4057 - val_accuracy: 0.8212 - val_loss: 0.4420\n",
            "Epoch 15/40\n",
            "23/23 - 0s - 12ms/step - accuracy: 0.8287 - loss: 0.4031 - val_accuracy: 0.8268 - val_loss: 0.4407\n",
            "Epoch 16/40\n",
            "23/23 - 0s - 16ms/step - accuracy: 0.8272 - loss: 0.4014 - val_accuracy: 0.8156 - val_loss: 0.4396\n",
            "Epoch 17/40\n",
            "23/23 - 0s - 14ms/step - accuracy: 0.8287 - loss: 0.3992 - val_accuracy: 0.8156 - val_loss: 0.4411\n",
            "Epoch 18/40\n",
            "23/23 - 0s - 11ms/step - accuracy: 0.8329 - loss: 0.3975 - val_accuracy: 0.8212 - val_loss: 0.4388\n",
            "Epoch 19/40\n",
            "23/23 - 0s - 13ms/step - accuracy: 0.8287 - loss: 0.3956 - val_accuracy: 0.8212 - val_loss: 0.4381\n",
            "Epoch 20/40\n",
            "23/23 - 0s - 16ms/step - accuracy: 0.8343 - loss: 0.3941 - val_accuracy: 0.8212 - val_loss: 0.4379\n",
            "Epoch 21/40\n",
            "23/23 - 1s - 25ms/step - accuracy: 0.8315 - loss: 0.3932 - val_accuracy: 0.8212 - val_loss: 0.4374\n",
            "Epoch 22/40\n",
            "23/23 - 0s - 13ms/step - accuracy: 0.8385 - loss: 0.3912 - val_accuracy: 0.8156 - val_loss: 0.4367\n",
            "Epoch 23/40\n",
            "23/23 - 0s - 8ms/step - accuracy: 0.8385 - loss: 0.3904 - val_accuracy: 0.8156 - val_loss: 0.4365\n",
            "Epoch 24/40\n",
            "23/23 - 0s - 13ms/step - accuracy: 0.8385 - loss: 0.3876 - val_accuracy: 0.8101 - val_loss: 0.4370\n",
            "Epoch 25/40\n",
            "23/23 - 0s - 13ms/step - accuracy: 0.8399 - loss: 0.3873 - val_accuracy: 0.8045 - val_loss: 0.4372\n",
            "Epoch 26/40\n",
            "23/23 - 0s - 12ms/step - accuracy: 0.8371 - loss: 0.3860 - val_accuracy: 0.8045 - val_loss: 0.4377\n",
            "Epoch 27/40\n",
            "23/23 - 0s - 12ms/step - accuracy: 0.8427 - loss: 0.3858 - val_accuracy: 0.8101 - val_loss: 0.4378\n",
            "Epoch 28/40\n",
            "23/23 - 0s - 6ms/step - accuracy: 0.8427 - loss: 0.3846 - val_accuracy: 0.7989 - val_loss: 0.4388\n",
            "Epoch 29/40\n",
            "23/23 - 0s - 6ms/step - accuracy: 0.8399 - loss: 0.3825 - val_accuracy: 0.7989 - val_loss: 0.4390\n",
            "Epoch 30/40\n",
            "23/23 - 0s - 6ms/step - accuracy: 0.8469 - loss: 0.3820 - val_accuracy: 0.7989 - val_loss: 0.4388\n",
            "Epoch 31/40\n",
            "23/23 - 0s - 6ms/step - accuracy: 0.8427 - loss: 0.3822 - val_accuracy: 0.7989 - val_loss: 0.4382\n",
            "Epoch 32/40\n",
            "23/23 - 0s - 13ms/step - accuracy: 0.8441 - loss: 0.3811 - val_accuracy: 0.7989 - val_loss: 0.4377\n",
            "Epoch 33/40\n",
            "23/23 - 0s - 13ms/step - accuracy: 0.8399 - loss: 0.3791 - val_accuracy: 0.7933 - val_loss: 0.4392\n",
            "Epoch 34/40\n",
            "23/23 - 0s - 15ms/step - accuracy: 0.8427 - loss: 0.3804 - val_accuracy: 0.7989 - val_loss: 0.4373\n",
            "Epoch 35/40\n",
            "23/23 - 0s - 11ms/step - accuracy: 0.8441 - loss: 0.3775 - val_accuracy: 0.7933 - val_loss: 0.4379\n",
            "Epoch 36/40\n",
            "23/23 - 0s - 10ms/step - accuracy: 0.8441 - loss: 0.3766 - val_accuracy: 0.7933 - val_loss: 0.4376\n",
            "Epoch 37/40\n",
            "23/23 - 0s - 11ms/step - accuracy: 0.8469 - loss: 0.3769 - val_accuracy: 0.7933 - val_loss: 0.4387\n",
            "Epoch 38/40\n",
            "23/23 - 0s - 8ms/step - accuracy: 0.8427 - loss: 0.3746 - val_accuracy: 0.8045 - val_loss: 0.4372\n",
            "Epoch 39/40\n",
            "23/23 - 0s - 6ms/step - accuracy: 0.8483 - loss: 0.3751 - val_accuracy: 0.7933 - val_loss: 0.4362\n",
            "Epoch 40/40\n",
            "23/23 - 0s - 6ms/step - accuracy: 0.8469 - loss: 0.3748 - val_accuracy: 0.7933 - val_loss: 0.4359\n",
            "\n",
            "Validation accuracy: 0.7933\n"
          ]
        }
      ]
    },
    {
      "cell_type": "code",
      "source": [
        "# Detailed metrics\n",
        "import numpy as np\n",
        "from sklearn.metrics import confusion_matrix, classification_report\n",
        "\n",
        "y_val_pred = (model.predict(X_val, verbose=0) >= 0.5).astype(int).ravel()\n",
        "print(confusion_matrix(y_val, y_val_pred))\n",
        "print(classification_report(y_val, y_val_pred, digits=3))\n"
      ],
      "metadata": {
        "colab": {
          "base_uri": "https://localhost:8080/"
        },
        "id": "-jP5dH9O4XSY",
        "outputId": "23eefa29-2ab4-4dea-9c82-8dee6fe852a9"
      },
      "execution_count": 21,
      "outputs": [
        {
          "output_type": "stream",
          "name": "stdout",
          "text": [
            "[[102   8]\n",
            " [ 29  40]]\n",
            "              precision    recall  f1-score   support\n",
            "\n",
            "           0      0.779     0.927     0.846       110\n",
            "           1      0.833     0.580     0.684        69\n",
            "\n",
            "    accuracy                          0.793       179\n",
            "   macro avg      0.806     0.753     0.765       179\n",
            "weighted avg      0.800     0.793     0.784       179\n",
            "\n"
          ]
        }
      ]
    }
  ]
}